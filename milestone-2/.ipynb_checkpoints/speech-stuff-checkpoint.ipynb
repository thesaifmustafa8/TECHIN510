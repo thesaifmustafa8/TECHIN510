{
 "cells": [
  {
   "cell_type": "code",
   "execution_count": null,
   "id": "4b91c318",
   "metadata": {},
   "outputs": [],
   "source": [
    "#!pip install speechrecognition\n",
    "#!pip install pyttsx3\n",
    "#!pip install playsound\n",
    "# !pip install gTTS"
   ]
  },
  {
   "cell_type": "code",
   "execution_count": null,
   "id": "c57f2071",
   "metadata": {
    "scrolled": false
   },
   "outputs": [],
   "source": [
    "import speech_recognition as sr\n",
    "import pyttsx3\n",
    "import webbrowser\n",
    "import playsound\n",
    "import os\n",
    "import random\n",
    "from gtts import gTTS\n",
    "\n",
    "r = sr.Recognizer()\n",
    "voice_data = ''\n",
    "\n",
    "def record_audio():\n",
    "    with sr.Microphone() as source:\n",
    "        audio = r.listen(source)\n",
    "        voice_data = ''\n",
    "        try:\n",
    "            voice_data = r.recognize_google(audio)\n",
    "            print(voice_data)\n",
    "        except sr.UnknownValueError:\n",
    "            print(\"Sorry, I didn't get that\")\n",
    "        except sr.RequestError:\n",
    "            print(\"Sorry, speech service is down\")\n",
    "        return voice_data\n",
    "            \n",
    "def alexis_speak(audio_string):\n",
    "    tts = gTTS(text=audio_string, lang='en')\n",
    "    r = random.randint(1,10000000)\n",
    "    audio_file = 'audio-' + str(r) + '.mp3'\n",
    "    tts.save(audio_file)\n",
    "    playsound.playsound(audio_file)\n",
    "    print(audio_string)\n",
    "    os.remove(audio_file)\n",
    "        \n",
    "def respond(voice_data):\n",
    "    \n",
    "    if 'Nike' in voice_data:\n",
    "        alexis_speak('How can I help you?')\n",
    "        \n",
    "    if 'your name' in voice_data:\n",
    "        alexis_speak('My name is Nike')\n",
    "        \n",
    "    if 'calories' in voice_data:\n",
    "        alexis_speak('You have completed X reps, which means you have burned (X/10)*40 calories')\n",
    "        \n",
    "    if 'search' in voice_data:\n",
    "        alexis_speak('Sure, I found this one for you')\n",
    "        url = 'https://assets.vogue.com/photos/5891e18123f9887c0e0e3f44/master/w_1600,c_limit/karlie-core-1.gif'\n",
    "        webbrowser.get().open(url)\n",
    "        #alexis_speak(\"Here's what I found\")\n",
    "    \n",
    "    voice_data=''\n",
    "        \n",
    "        \n",
    "#alexis_speak(\"How can I help you?\")\n",
    "\n",
    "while True:\n",
    "    voice_data = record_audio()\n",
    "    respond(voice_data)\n",
    "\n"
   ]
  },
  {
   "cell_type": "code",
   "execution_count": null,
   "id": "ae05d656",
   "metadata": {},
   "outputs": [],
   "source": []
  },
  {
   "cell_type": "code",
   "execution_count": null,
   "id": "86b5f3ed",
   "metadata": {},
   "outputs": [],
   "source": [
    "# import speech_recognition\n",
    "# import pyttsx3\n",
    "\n",
    "# recognizer = speech_recognition.Recognizer()\n",
    "\n",
    "# while True:\n",
    "#     try:\n",
    "#         with speech_recognition.Microphone() as mic:\n",
    "#             recognizer.adjust_for_ambient_noise(mic, duration=0.2)\n",
    "#             audio = recognizer.listen(mic)\n",
    "            \n",
    "#             text = recognizer.recognize_google(audio)\n",
    "#             text = text.lower()\n",
    "            \n",
    "#             print(f\"Recognized as: {text}\")\n",
    "            \n",
    "#     except speech_recognition.UnknownValueError():\n",
    "#         recognizer = speech_recognition.Recognizer()\n",
    "#         continue"
   ]
  },
  {
   "cell_type": "code",
   "execution_count": null,
   "id": "3bc08f65",
   "metadata": {},
   "outputs": [],
   "source": []
  }
 ],
 "metadata": {
  "kernelspec": {
   "display_name": "Python 3",
   "language": "python",
   "name": "python3"
  },
  "language_info": {
   "codemirror_mode": {
    "name": "ipython",
    "version": 3
   },
   "file_extension": ".py",
   "mimetype": "text/x-python",
   "name": "python",
   "nbconvert_exporter": "python",
   "pygments_lexer": "ipython3",
   "version": "3.8.8"
  }
 },
 "nbformat": 4,
 "nbformat_minor": 5
}
